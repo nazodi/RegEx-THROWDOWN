{
 "cells": [
  {
   "cell_type": "code",
   "execution_count": 2,
   "metadata": {},
   "outputs": [
    {
     "name": "stdout",
     "output_type": "stream",
     "text": [
      "USER 1: Enter your ProSite formatted pattern: P-x(2)-G-E-S-G(2)-[AS]\n",
      "\n",
      "\n",
      "\n",
      "\n",
      "\n",
      "\n",
      "USER 1: Here is the list of genes matched by your submitted ProSite pattern, ignoring isoforms. \n",
      "We will be using only the first 5 best matches to construct your phylogenetic tree.\n",
      "\n",
      "\n",
      "Q3SYW2\n",
      "Q863A0\n",
      "P06681\n",
      "P21180\n",
      "Q8SQ74\n",
      "Q8SQ75\n",
      "Q9FF10\n",
      "O04204\n"
     ]
    },
    {
     "data": {
      "text/plain": [
       "True"
      ]
     },
     "execution_count": 2,
     "metadata": {},
     "output_type": "execute_result"
    }
   ],
   "source": [
    "# Import BeautifulSoup and use it to open the Prosite Web Page. Feel free to use P-x(2)-G-E-S-G(2)-[AS] as your sample pattern.\n",
    "\n",
    "from bs4 import BeautifulSoup\n",
    "\n",
    "import requests\n",
    "\n",
    "import re\n",
    "\n",
    "regex1 = input(\"USER 1: Enter your ProSite formatted pattern: \")\n",
    "\n",
    "url1 = \"https://prosite.expasy.org/cgi-bin/prosite/PSScan.cgi?sig=\"+regex1\n",
    "\n",
    "r  = requests.get(url1)\n",
    "\n",
    "data = r.text\n",
    "\n",
    "soup = str(BeautifulSoup(data))\n",
    "\n",
    "#print(\"\\n*********************\\n\\nHere are the Prosite search results based on your regular expression:\\n*********************\\n\\n\")\n",
    "#print(soup)\n",
    "#print(\"\\n\\n\\nNow, we will scrape the results for the top 5 gene results, while ignoring isoforms.\\n\\n\")\n",
    "\n",
    "# Importing the regular expression library and asking it to find all gene name formatted matches in the Prosite content,\n",
    "# while ignoring isoforms, so that we don't have duplicates\n",
    "\n",
    "import re\n",
    "\n",
    "#souplist = re.findall(r\"\\|[a-zA-Z0-9]*?[\\-]*?[a-zA-Z0-9]*?[\\-|\\|]\", soup)\n",
    "\n",
    "souplist = re.findall(r\"\\|[a-zA-Z0-9]*?\\|\", soup)\n",
    "\n",
    "# Delete the last two entries which are \"||\" from the HTML of that same webpage.\n",
    "    \n",
    "del souplist[-1]\n",
    "del souplist[-1]\n",
    "\n",
    "# Strip out | and - which were initially kept as part of the regular expression to isolate gene names\n",
    "\n",
    "striplist = ([s.replace('|', '') for s in souplist]) # remove the | from the string borders\n",
    "striplist = ([s.replace('-', '') for s in striplist])\n",
    "\n",
    "print(\"\\n\\n\\n\")\n",
    "\n",
    "print(\"\\n\\nUSER 1: Here is the list of genes matched by your submitted ProSite pattern, ignoring isoforms. \\nWe will be using only the first 5 best matches to construct your phylogenetic tree.\\n\\n\")\n",
    "for gene in striplist:\n",
    "    print(gene)\n",
    "\n",
    "# Assign a variable to the first 5 results in the list of resulting genes\n",
    "    \n",
    "User1Seq1 = striplist[0]\n",
    "User1Seq2 = striplist[1]\n",
    "User1Seq3 = striplist[2]\n",
    "User1Seq4 = striplist[3]\n",
    "User1Seq5 = striplist[4]\n",
    "\n",
    "# Concatenate the User1 sequences into the uniprot.org FASTA formatted link, and open it in a new window,\n",
    "# to demonstrate the FASTA formatted sequences\n",
    "    \n",
    "fastalink = ('https://www.uniprot.org/uniprot/?query='+User1Seq1+'%20OR%20'+User1Seq2+'%20OR%20'+User1Seq3+'%20OR%20%20'+User1Seq4+'%20OR%20%20'+User1Seq5+'&format=fasta&limit=5&sort=score')\n",
    "\n",
    "import webbrowser\n",
    "\n",
    "webbrowser.open_new(fastalink)\n",
    "\n",
    "# NEXT STEP: Write the content of the above link to a txt FASTA file"
   ]
  },
  {
   "cell_type": "code",
   "execution_count": null,
   "metadata": {},
   "outputs": [],
   "source": []
  }
 ],
 "metadata": {
  "kernelspec": {
   "display_name": "Python 3",
   "language": "python",
   "name": "python3"
  },
  "language_info": {
   "codemirror_mode": {
    "name": "ipython",
    "version": 3
   },
   "file_extension": ".py",
   "mimetype": "text/x-python",
   "name": "python",
   "nbconvert_exporter": "python",
   "pygments_lexer": "ipython3",
   "version": "3.6.5"
  }
 },
 "nbformat": 4,
 "nbformat_minor": 2
}
